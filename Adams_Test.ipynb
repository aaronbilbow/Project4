{
 "cells": [
  {
   "cell_type": "code",
   "execution_count": 1,
   "metadata": {
    "_cell_guid": "b1076dfc-b9ad-4769-8c92-a6c4dae69d19",
    "_uuid": "8f2839f25d086af736a60e9eeb907d3b93b6e0e5",
    "tags": []
   },
   "outputs": [],
   "source": [
    "# This Python 3 environment comes with many helpful analytics libraries installed\n",
    "# It is defined by the kaggle/python Docker image: https://github.com/kaggle/docker-python\n",
    "# For example, here's several helpful packages to load\n",
    "\n",
    "import numpy as np # linear algebra\n",
    "import pandas as pd # data processing, CSV file I/O (e.g. pd.read_csv)\n",
    "\n",
    "# Input data files are available in the read-only \"../input/\" directory\n",
    "# For example, running this (by clicking run or pressing Shift+Enter) will list all files under the input directory\n",
    "\n",
    "import os\n",
    "for dirname, _, filenames in os.walk('/kaggle/input'):\n",
    "    for filename in filenames:\n",
    "        print(os.path.join(dirname, filename))\n",
    "\n",
    "# You can write up to 20GB to the current directory (/kaggle/working/) that gets preserved as output when you create a version using \"Save & Run All\" \n",
    "# You can also write temporary files to /kaggle/temp/, but they won't be saved outside of the current session"
   ]
  },
  {
   "cell_type": "code",
   "execution_count": 2,
   "metadata": {
    "tags": []
   },
   "outputs": [
    {
     "ename": "ModuleNotFoundError",
     "evalue": "No module named 'tensorflow'",
     "output_type": "error",
     "traceback": [
      "\u001b[1;31m---------------------------------------------------------------------------\u001b[0m",
      "\u001b[1;31mModuleNotFoundError\u001b[0m                       Traceback (most recent call last)",
      "Cell \u001b[1;32mIn[2], line 3\u001b[0m\n\u001b[0;32m      1\u001b[0m \u001b[38;5;28;01mimport\u001b[39;00m \u001b[38;5;21;01mnumpy\u001b[39;00m \u001b[38;5;28;01mas\u001b[39;00m \u001b[38;5;21;01mnp\u001b[39;00m\n\u001b[0;32m      2\u001b[0m \u001b[38;5;28;01mimport\u001b[39;00m \u001b[38;5;21;01mpandas\u001b[39;00m \u001b[38;5;28;01mas\u001b[39;00m \u001b[38;5;21;01mpd\u001b[39;00m\n\u001b[1;32m----> 3\u001b[0m \u001b[38;5;28;01mfrom\u001b[39;00m \u001b[38;5;21;01mtensorflow\u001b[39;00m\u001b[38;5;21;01m.\u001b[39;00m\u001b[38;5;21;01mkeras\u001b[39;00m\u001b[38;5;21;01m.\u001b[39;00m\u001b[38;5;21;01mutils\u001b[39;00m \u001b[38;5;28;01mimport\u001b[39;00m to_categorical\n\u001b[0;32m      4\u001b[0m \u001b[38;5;28;01mimport\u001b[39;00m \u001b[38;5;21;01mmatplotlib\u001b[39;00m\u001b[38;5;21;01m.\u001b[39;00m\u001b[38;5;21;01mpyplot\u001b[39;00m \u001b[38;5;28;01mas\u001b[39;00m \u001b[38;5;21;01mplt\u001b[39;00m\n\u001b[0;32m      5\u001b[0m \u001b[38;5;28;01mimport\u001b[39;00m \u001b[38;5;21;01mtensorflow\u001b[39;00m \u001b[38;5;28;01mas\u001b[39;00m \u001b[38;5;21;01mtf\u001b[39;00m\n",
      "\u001b[1;31mModuleNotFoundError\u001b[0m: No module named 'tensorflow'"
     ]
    }
   ],
   "source": [
    "import numpy as np\n",
    "import pandas as pd\n",
    "from tensorflow.keras.utils import to_categorical\n",
    "import matplotlib.pyplot as plt\n",
    "import tensorflow as tf\n",
    "from tensorflow.keras.preprocessing.image import ImageDataGenerator\n",
    "import os\n",
    "from tqdm import tqdm\n",
    "from random import shuffle  \n",
    "from zipfile import ZipFile\n",
    "from PIL import Image\n",
    "import cv2\n",
    "from tensorflow.keras import models\n",
    "from tensorflow.keras import layers\n",
    "from tensorflow.keras import activations\n",
    "from tensorflow.keras import Model\n",
    "from tensorflow.keras import callbacks\n",
    "\n",
    "%matplotlib inline"
   ]
  },
  {
   "cell_type": "code",
   "execution_count": null,
   "metadata": {
    "execution": {
     "iopub.execute_input": "2021-05-22T21:57:09.694618Z",
     "iopub.status.busy": "2021-05-22T21:57:09.694371Z",
     "iopub.status.idle": "2021-05-22T21:57:09.699808Z",
     "shell.execute_reply": "2021-05-22T21:57:09.698418Z",
     "shell.execute_reply.started": "2021-05-22T21:57:09.694594Z"
    }
   },
   "outputs": [],
   "source": [
    "categories = {'AbdomenCT': 0, 'BreastMRI': 1, 'ChestCT': 2, 'CXR': 3, 'Hand': 4, 'HeadCT': 5}"
   ]
  },
  {
   "cell_type": "code",
   "execution_count": null,
   "metadata": {
    "execution": {
     "iopub.execute_input": "2021-05-22T21:57:19.192319Z",
     "iopub.status.busy": "2021-05-22T21:57:19.191641Z",
     "iopub.status.idle": "2021-05-22T21:57:19.197377Z",
     "shell.execute_reply": "2021-05-22T21:57:19.196023Z",
     "shell.execute_reply.started": "2021-05-22T21:57:19.192272Z"
    }
   },
   "outputs": [],
   "source": [
    "Width=64\n",
    "Height=64\n",
    "ISize=(Width, Height)\n",
    "BSize=64\n",
    "Num_Categories = 6\n",
    "Epochs = 5"
   ]
  },
  {
   "cell_type": "code",
   "execution_count": null,
   "metadata": {
    "execution": {
     "iopub.execute_input": "2021-05-22T21:57:19.609125Z",
     "iopub.status.busy": "2021-05-22T21:57:19.60861Z",
     "iopub.status.idle": "2021-05-22T21:57:19.614356Z",
     "shell.execute_reply": "2021-05-22T21:57:19.613489Z",
     "shell.execute_reply.started": "2021-05-22T21:57:19.609077Z"
    }
   },
   "outputs": [],
   "source": [
    "abdomen_DIR='/kaggle/input/medical-mnist/AbdomenCT'\n",
    "breastmri_DIR='/kaggle/input/medical-mnist/BreastMRI'\n",
    "chestct_DIR='/kaggle/input/medical-mnist/ChestCT'\n",
    "cxr_DIR='/kaggle/input/medical-mnist/CXR'\n",
    "hand_DIR='/kaggle/input/medical-mnist/Hand'\n",
    "headct = '/kaggle/input/medical-mnist/HeadCT'"
   ]
  },
  {
   "cell_type": "code",
   "execution_count": null,
   "metadata": {
    "execution": {
     "iopub.execute_input": "2021-05-22T21:57:21.640038Z",
     "iopub.status.busy": "2021-05-22T21:57:21.63958Z",
     "iopub.status.idle": "2021-05-22T21:57:21.645723Z",
     "shell.execute_reply": "2021-05-22T21:57:21.644599Z",
     "shell.execute_reply.started": "2021-05-22T21:57:21.640003Z"
    }
   },
   "outputs": [],
   "source": [
    "def assign_label(img,class_type):\n",
    "    return class_type\n",
    "\n",
    "X = []\n",
    "y = []\n",
    "\n",
    "def make_train_data(class_type,DIR):\n",
    "    for img in tqdm(os.listdir(DIR)):\n",
    "        label=assign_label(img,class_type)\n",
    "        path = os.path.join(DIR,img)\n",
    "        img = cv2.imread(path,cv2.IMREAD_COLOR)\n",
    "        img = cv2.resize(img, (Width,Height))\n",
    "        \n",
    "        X.append(np.array(img))\n",
    "        y.append(str(label))"
   ]
  },
  {
   "cell_type": "code",
   "execution_count": null,
   "metadata": {
    "execution": {
     "iopub.execute_input": "2021-05-22T21:57:24.338696Z",
     "iopub.status.busy": "2021-05-22T21:57:24.338024Z",
     "iopub.status.idle": "2021-05-22T21:58:06.266129Z",
     "shell.execute_reply": "2021-05-22T21:58:06.265271Z",
     "shell.execute_reply.started": "2021-05-22T21:57:24.338648Z"
    }
   },
   "outputs": [],
   "source": [
    "make_train_data(categories.get('AbdomenCT'), abdomen_DIR)"
   ]
  },
  {
   "cell_type": "code",
   "execution_count": null,
   "metadata": {
    "execution": {
     "iopub.execute_input": "2021-05-22T21:58:06.26821Z",
     "iopub.status.busy": "2021-05-22T21:58:06.267969Z",
     "iopub.status.idle": "2021-05-22T21:58:44.08587Z",
     "shell.execute_reply": "2021-05-22T21:58:44.084927Z",
     "shell.execute_reply.started": "2021-05-22T21:58:06.268187Z"
    }
   },
   "outputs": [],
   "source": [
    "make_train_data(categories.get('BreastMRI'), breastmri_DIR)"
   ]
  },
  {
   "cell_type": "code",
   "execution_count": null,
   "metadata": {
    "execution": {
     "iopub.execute_input": "2021-05-22T21:58:44.087778Z",
     "iopub.status.busy": "2021-05-22T21:58:44.087252Z",
     "iopub.status.idle": "2021-05-22T21:59:26.54373Z",
     "shell.execute_reply": "2021-05-22T21:59:26.543014Z",
     "shell.execute_reply.started": "2021-05-22T21:58:44.087729Z"
    }
   },
   "outputs": [],
   "source": [
    "make_train_data(categories.get('ChestCT'), chestct_DIR)"
   ]
  },
  {
   "cell_type": "code",
   "execution_count": null,
   "metadata": {
    "execution": {
     "iopub.execute_input": "2021-05-22T21:59:26.545302Z",
     "iopub.status.busy": "2021-05-22T21:59:26.544827Z",
     "iopub.status.idle": "2021-05-22T22:00:09.336762Z",
     "shell.execute_reply": "2021-05-22T22:00:09.33366Z",
     "shell.execute_reply.started": "2021-05-22T21:59:26.545272Z"
    }
   },
   "outputs": [],
   "source": [
    "make_train_data(categories.get('CXR'), cxr_DIR)"
   ]
  },
  {
   "cell_type": "code",
   "execution_count": null,
   "metadata": {
    "execution": {
     "iopub.execute_input": "2021-05-22T22:00:09.340252Z",
     "iopub.status.busy": "2021-05-22T22:00:09.339882Z",
     "iopub.status.idle": "2021-05-22T22:00:53.019049Z",
     "shell.execute_reply": "2021-05-22T22:00:53.018323Z",
     "shell.execute_reply.started": "2021-05-22T22:00:09.340222Z"
    }
   },
   "outputs": [],
   "source": [
    "make_train_data(categories.get('Hand'), hand_DIR)"
   ]
  },
  {
   "cell_type": "code",
   "execution_count": null,
   "metadata": {
    "execution": {
     "iopub.execute_input": "2021-05-22T22:00:53.020612Z",
     "iopub.status.busy": "2021-05-22T22:00:53.020248Z",
     "iopub.status.idle": "2021-05-22T22:01:35.344329Z",
     "shell.execute_reply": "2021-05-22T22:01:35.343426Z",
     "shell.execute_reply.started": "2021-05-22T22:00:53.020586Z"
    }
   },
   "outputs": [],
   "source": [
    "make_train_data(categories.get('HeadCT'), headct)"
   ]
  },
  {
   "cell_type": "code",
   "execution_count": null,
   "metadata": {
    "execution": {
     "iopub.execute_input": "2021-05-22T22:01:35.346352Z",
     "iopub.status.busy": "2021-05-22T22:01:35.345963Z",
     "iopub.status.idle": "2021-05-22T22:01:35.717512Z",
     "shell.execute_reply": "2021-05-22T22:01:35.716555Z",
     "shell.execute_reply.started": "2021-05-22T22:01:35.346311Z"
    }
   },
   "outputs": [],
   "source": [
    "len(X)\n",
    "y = np.array(y)\n",
    "X = np.array(X)\n",
    "X.shape"
   ]
  },
  {
   "cell_type": "code",
   "execution_count": null,
   "metadata": {
    "execution": {
     "iopub.execute_input": "2021-05-22T22:01:35.719147Z",
     "iopub.status.busy": "2021-05-22T22:01:35.718797Z",
     "iopub.status.idle": "2021-05-22T22:01:35.724852Z",
     "shell.execute_reply": "2021-05-22T22:01:35.723773Z",
     "shell.execute_reply.started": "2021-05-22T22:01:35.719119Z"
    }
   },
   "outputs": [],
   "source": [
    "X.shape, y.shape"
   ]
  },
  {
   "cell_type": "code",
   "execution_count": null,
   "metadata": {
    "execution": {
     "iopub.execute_input": "2021-05-22T22:01:35.726645Z",
     "iopub.status.busy": "2021-05-22T22:01:35.726286Z",
     "iopub.status.idle": "2021-05-22T22:01:36.673798Z",
     "shell.execute_reply": "2021-05-22T22:01:36.672954Z",
     "shell.execute_reply.started": "2021-05-22T22:01:35.726607Z"
    }
   },
   "outputs": [],
   "source": [
    "from sklearn.model_selection import train_test_split\n",
    "X_training_data,X_testing_data, y_training_data, y_testing_data = train_test_split(X, y, shuffle=True, test_size=0.1, random_state=58954)"
   ]
  },
  {
   "cell_type": "code",
   "execution_count": null,
   "metadata": {
    "execution": {
     "iopub.execute_input": "2021-05-22T22:01:36.675326Z",
     "iopub.status.busy": "2021-05-22T22:01:36.675043Z",
     "iopub.status.idle": "2021-05-22T22:01:36.691668Z",
     "shell.execute_reply": "2021-05-22T22:01:36.690755Z",
     "shell.execute_reply.started": "2021-05-22T22:01:36.675299Z"
    }
   },
   "outputs": [],
   "source": [
    "k = len(set(y_training_data))\n",
    "print(\"Number of categories, \", k)"
   ]
  },
  {
   "cell_type": "code",
   "execution_count": null,
   "metadata": {
    "execution": {
     "iopub.execute_input": "2021-05-22T22:01:36.693673Z",
     "iopub.status.busy": "2021-05-22T22:01:36.69328Z",
     "iopub.status.idle": "2021-05-22T22:01:39.286133Z",
     "shell.execute_reply": "2021-05-22T22:01:39.285169Z",
     "shell.execute_reply.started": "2021-05-22T22:01:36.693632Z"
    }
   },
   "outputs": [],
   "source": [
    "X_training_data = X_training_data.astype('float64')/255\n",
    "X_testing_data = X_testing_data.astype('float64')/255"
   ]
  },
  {
   "cell_type": "code",
   "execution_count": null,
   "metadata": {
    "execution": {
     "iopub.execute_input": "2021-05-22T22:01:39.287998Z",
     "iopub.status.busy": "2021-05-22T22:01:39.287679Z",
     "iopub.status.idle": "2021-05-22T22:01:39.30865Z",
     "shell.execute_reply": "2021-05-22T22:01:39.307655Z",
     "shell.execute_reply.started": "2021-05-22T22:01:39.287965Z"
    }
   },
   "outputs": [],
   "source": [
    "y_training_data = to_categorical(y_training_data, num_classes=Num_Categories)\n",
    "y_testing_data = to_categorical(y_testing_data, num_classes=Num_Categories)"
   ]
  },
  {
   "cell_type": "code",
   "execution_count": null,
   "metadata": {
    "execution": {
     "iopub.execute_input": "2021-05-22T22:01:39.31053Z",
     "iopub.status.busy": "2021-05-22T22:01:39.310056Z",
     "iopub.status.idle": "2021-05-22T22:01:40.381604Z",
     "shell.execute_reply": "2021-05-22T22:01:40.380639Z",
     "shell.execute_reply.started": "2021-05-22T22:01:39.310417Z"
    }
   },
   "outputs": [],
   "source": [
    "labels = '''AbdomenCT\n",
    "BreastMRI\n",
    "ChestCT\n",
    "CXR\n",
    "Hand\n",
    "HeadCT'''.split(\"\\n\")\n",
    "\n",
    "plt.figure(figsize=(16,16))\n",
    "j = 1\n",
    "for i in np.random.randint(0,1000,16):\n",
    "    plt.subplot(4,4,j); j+=1\n",
    "    plt.imshow(X_training_data[i],cmap = 'Greys')\n",
    "    plt.axis('off')\n",
    "    plt.title(\"Actual: {}\".format(labels[np.argmax(y_training_data[i])]))\n",
    "    #plt.title('{} / {}'.format(labels[y_train[i]],y_train[i]))"
   ]
  },
  {
   "cell_type": "code",
   "execution_count": null,
   "metadata": {
    "execution": {
     "iopub.execute_input": "2021-05-22T22:01:40.383362Z",
     "iopub.status.busy": "2021-05-22T22:01:40.383073Z",
     "iopub.status.idle": "2021-05-22T22:01:40.519322Z",
     "shell.execute_reply": "2021-05-22T22:01:40.518346Z",
     "shell.execute_reply.started": "2021-05-22T22:01:40.383334Z"
    }
   },
   "outputs": [],
   "source": [
    "i = layers.Input(shape = (X_training_data[0].shape))\n",
    "x = layers.Conv2D(64, (3,3), activation='relu', strides = (2,2), padding= 'same')(i)\n",
    "x = layers.Conv2D(64, (3,3), activation='relu', strides = (2,2), padding= 'same')(x)\n",
    "x = layers.Conv2D(32, (3,3), activation='relu', strides = (2,2), padding= 'same')(x)\n",
    "x = layers.Flatten()(x)\n",
    "x = layers.Dense(256, activation='relu')(x)\n",
    "x = layers.Dropout(0.2)(x)\n",
    "x = layers.Dense(128, activation='relu')(x)\n",
    "x = layers.Dropout(0.2)(x)\n",
    "x = layers.Dense(k, activation='softmax')(x)\n",
    "\n",
    "model = Model(i, x)"
   ]
  },
  {
   "cell_type": "code",
   "execution_count": null,
   "metadata": {
    "execution": {
     "iopub.execute_input": "2021-05-22T22:01:40.52105Z",
     "iopub.status.busy": "2021-05-22T22:01:40.520674Z",
     "iopub.status.idle": "2021-05-22T22:01:40.531007Z",
     "shell.execute_reply": "2021-05-22T22:01:40.530089Z",
     "shell.execute_reply.started": "2021-05-22T22:01:40.521013Z"
    }
   },
   "outputs": [],
   "source": [
    "model.summary()"
   ]
  },
  {
   "cell_type": "code",
   "execution_count": null,
   "metadata": {
    "execution": {
     "iopub.execute_input": "2021-05-22T22:01:40.532382Z",
     "iopub.status.busy": "2021-05-22T22:01:40.532126Z",
     "iopub.status.idle": "2021-05-22T22:07:44.343913Z",
     "shell.execute_reply": "2021-05-22T22:07:44.342722Z",
     "shell.execute_reply.started": "2021-05-22T22:01:40.532349Z"
    }
   },
   "outputs": [],
   "source": [
    "model.compile(optimizer=tf.keras.optimizers.Adam(learning_rate=0.001), loss='categorical_crossentropy', metrics=['accuracy'])\n",
    "\n",
    "reduce_lr = callbacks.ReduceLROnPlateau(monitor='val_accuracy', factor=0.1,\n",
    "                              patience=3, min_lr=0.00001)\n",
    "\n",
    "model.fit(X_training_data, y_training_data, epochs = Epochs, batch_size = BSize, validation_data=  (X_testing_data,y_testing_data), callbacks=[reduce_lr])"
   ]
  },
  {
   "cell_type": "code",
   "execution_count": null,
   "metadata": {
    "execution": {
     "iopub.execute_input": "2021-05-22T22:07:44.346513Z",
     "iopub.status.busy": "2021-05-22T22:07:44.346188Z",
     "iopub.status.idle": "2021-05-22T22:07:44.485194Z",
     "shell.execute_reply": "2021-05-22T22:07:44.484202Z",
     "shell.execute_reply.started": "2021-05-22T22:07:44.346484Z"
    }
   },
   "outputs": [],
   "source": [
    "print(\"The class of this is: {}\".format(np.argmax(y_training_data[10])))\n",
    "plt.imshow(X_training_data[10], cmap='gray')\n",
    "plt.show()"
   ]
  },
  {
   "cell_type": "code",
   "execution_count": null,
   "metadata": {
    "execution": {
     "iopub.execute_input": "2021-05-22T22:07:44.487194Z",
     "iopub.status.busy": "2021-05-22T22:07:44.486639Z",
     "iopub.status.idle": "2021-05-22T22:07:47.563462Z",
     "shell.execute_reply": "2021-05-22T22:07:47.562438Z",
     "shell.execute_reply.started": "2021-05-22T22:07:44.487153Z"
    }
   },
   "outputs": [],
   "source": [
    "from sklearn.metrics import confusion_matrix\n",
    "import itertools\n",
    "\n",
    "def plot_confusion_matrix(cm, categories,\n",
    "                          normalize=False,\n",
    "                          title='Confusion matrix',\n",
    "                          cmap=plt.cm.Blues):\n",
    "\n",
    "    if normalize:\n",
    "        cm = cm.astype('float') / cm.sum(axis=1)[:, np.newaxis]\n",
    "        print(\"Normalized confusion matrix\")\n",
    "    else:\n",
    "        print('Confusion matrix, without normalization')\n",
    "\n",
    "    print(cm)\n",
    "\n",
    "    plt.imshow(cm, interpolation='nearest', cmap=cmap)\n",
    "    plt.title(title)\n",
    "    plt.colorbar()\n",
    "    tick_marks = np.arange(len(categories))\n",
    "    plt.xticks(tick_marks, categories, rotation=45)\n",
    "    plt.yticks(tick_marks, categories)\n",
    "\n",
    "    fmt = '.2f' if normalize else 'd'\n",
    "    thresh = cm.max() / 2.\n",
    "    for i, j in itertools.product(range(cm.shape[0]), range(cm.shape[1])):\n",
    "        plt.text(j, i, format(cm[i, j], fmt),\n",
    "               horizontalalignment=\"center\",\n",
    "               color=\"white\" if cm[i, j] > thresh else \"black\")\n",
    "\n",
    "    plt.tight_layout()\n",
    "    plt.ylabel('True label')\n",
    "    plt.xlabel('Predicted label')\n",
    "    plt.show()\n",
    "\n",
    "\n",
    "p_test = model.predict(X_testing_data).argmax(axis=1)\n",
    "cm = confusion_matrix(np.argmax(y_testing_data, axis= 1), p_test)\n",
    "plot_confusion_matrix(cm, list(range(5)))"
   ]
  },
  {
   "cell_type": "code",
   "execution_count": null,
   "metadata": {
    "execution": {
     "iopub.execute_input": "2021-05-22T22:07:47.566478Z",
     "iopub.status.busy": "2021-05-22T22:07:47.566053Z",
     "iopub.status.idle": "2021-05-22T22:07:47.721148Z",
     "shell.execute_reply": "2021-05-22T22:07:47.719991Z",
     "shell.execute_reply.started": "2021-05-22T22:07:47.566435Z"
    }
   },
   "outputs": [],
   "source": [
    "misclassified_idx = np.where(p_test != np.argmax(y_testing_data, axis= 1))[0]\n",
    "i = np.random.choice(misclassified_idx)\n",
    "plt.imshow(X_testing_data[i], cmap='gray')\n",
    "plt.title(\"True label: %s Predicted: %s\" % (labels[np.argmax(y_testing_data[i])], labels[p_test[i]]));"
   ]
  },
  {
   "cell_type": "code",
   "execution_count": null,
   "metadata": {},
   "outputs": [],
   "source": []
  }
 ],
 "metadata": {
  "kernelspec": {
   "display_name": "Python 3 (ipykernel)",
   "language": "python",
   "name": "python3"
  },
  "language_info": {
   "codemirror_mode": {
    "name": "ipython",
    "version": 3
   },
   "file_extension": ".py",
   "mimetype": "text/x-python",
   "name": "python",
   "nbconvert_exporter": "python",
   "pygments_lexer": "ipython3",
   "version": "3.10.12"
  }
 },
 "nbformat": 4,
 "nbformat_minor": 4
}
